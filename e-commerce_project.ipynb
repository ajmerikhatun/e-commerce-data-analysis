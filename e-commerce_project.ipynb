{
 "cells": [
  {
   "cell_type": "code",
   "execution_count": null,
   "id": "07a0226e-eeb7-4842-9a8e-cb8eb304de6c",
   "metadata": {},
   "outputs": [],
   "source": [
    "import pandas as pd\n",
    "\n",
    "import plotly.express as px\n",
    "import plotly.graph_objects as go\n",
    "import plotly.io as pio\n",
    "import plotly.colors as colors\n",
    "pio.templates.default = \"plotly_white\""
   ]
  },
  {
   "cell_type": "code",
   "execution_count": null,
   "id": "5c9ab96b-9167-4121-a114-1cf763244cd6",
   "metadata": {},
   "outputs": [],
   "source": [
    "data = pd.read_csv(\"Sample - Superstore.csv\", encoding = 'latin-1')"
   ]
  },
  {
   "cell_type": "code",
   "execution_count": null,
   "id": "5951ee37-8792-4ccb-af6e-141bb74b0165",
   "metadata": {},
   "outputs": [],
   "source": [
    "data"
   ]
  },
  {
   "cell_type": "code",
   "execution_count": null,
   "id": "9b0fa629-517c-4806-a43b-4c9ec2500cf5",
   "metadata": {},
   "outputs": [],
   "source": [
    "!pip install plotly"
   ]
  },
  {
   "cell_type": "code",
   "execution_count": null,
   "id": "993d831b-3a84-4542-a555-53b84e284b5f",
   "metadata": {},
   "outputs": [],
   "source": [
    "data.head()"
   ]
  },
  {
   "cell_type": "code",
   "execution_count": null,
   "id": "cc04b51d-78d5-499c-9229-85805d93d969",
   "metadata": {},
   "outputs": [],
   "source": [
    "data.describe()"
   ]
  },
  {
   "cell_type": "code",
   "execution_count": null,
   "id": "bc7c4ca2-4f6c-46ec-9b49-dd41b9b63931",
   "metadata": {},
   "outputs": [],
   "source": [
    "data.info()"
   ]
  },
  {
   "cell_type": "markdown",
   "id": "7294c4d3-cc5e-43b7-8726-f465cae863b5",
   "metadata": {},
   "source": [
    "# Converting date columns"
   ]
  },
  {
   "cell_type": "code",
   "execution_count": null,
   "id": "8c5e8238-5bd2-4e83-a155-ff7ed02c55d8",
   "metadata": {},
   "outputs": [],
   "source": [
    "data['Order Date'] = pd.to_datetime(data['Order Date'])\n",
    "data['Ship Date'] = pd.to_datetime(data['Ship Date'])"
   ]
  },
  {
   "cell_type": "code",
   "execution_count": null,
   "id": "173fcc70-36cb-4f7e-955f-5c8db1193094",
   "metadata": {},
   "outputs": [],
   "source": [
    "data.info()"
   ]
  },
  {
   "cell_type": "code",
   "execution_count": null,
   "id": "1a31a3fa-b91d-44db-9276-3e22ea9b07e0",
   "metadata": {},
   "outputs": [],
   "source": [
    "data.head()"
   ]
  },
  {
   "cell_type": "code",
   "execution_count": null,
   "id": "ce5d36c7-efa9-43b6-bb8f-880e164b335a",
   "metadata": {},
   "outputs": [],
   "source": [
    "data['Order Month'] = data['Order Date'].dt.month\n",
    "data['Order Year'] = data['Order Date'].dt.year\n",
    "data['Order Day of Week'] = data['Order Date'].dt.dayofweek"
   ]
  },
  {
   "cell_type": "code",
   "execution_count": null,
   "id": "67a84150-5181-44b8-9b6a-c96a2f17c203",
   "metadata": {},
   "outputs": [],
   "source": [
    "data.head()"
   ]
  },
  {
   "cell_type": "markdown",
   "id": "c381ca6f-d09f-48c6-a552-3a85a723b136",
   "metadata": {},
   "source": [
    "# Monthly sales analysis"
   ]
  },
  {
   "cell_type": "code",
   "execution_count": null,
   "id": "406ad565-194c-425b-aa2d-1a0805c77490",
   "metadata": {
    "scrolled": true
   },
   "outputs": [],
   "source": [
    "sales_by_month = data.groupby('Order Month')['Sales'].sum().reset_index()\n",
    "fig = px.line(sales_by_month,\n",
    "              x='Order Month',\n",
    "              y='Sales',\n",
    "              title='Monthly Sales Analysis')\n",
    "fig.show()"
   ]
  },
  {
   "cell_type": "code",
   "execution_count": null,
   "id": "23f119ad-3c0c-43d9-87c8-3ace14f8679b",
   "metadata": {},
   "outputs": [],
   "source": [
    "data.head()"
   ]
  },
  {
   "cell_type": "markdown",
   "id": "647b9f4a-f1bb-4f57-8af1-727d18a2bdcb",
   "metadata": {},
   "source": [
    "# Sales by Category"
   ]
  },
  {
   "cell_type": "code",
   "execution_count": null,
   "id": "a1943eb0-0034-4609-b657-88b16a75ccbd",
   "metadata": {},
   "outputs": [],
   "source": [
    "sales_by_category = data.groupby('Category')['Sales'].sum().reset_index()"
   ]
  },
  {
   "cell_type": "code",
   "execution_count": null,
   "id": "b6622484-1c4d-4db3-9e8f-828f497768ab",
   "metadata": {},
   "outputs": [],
   "source": [
    "sales_by_category"
   ]
  },
  {
   "cell_type": "code",
   "execution_count": null,
   "id": "3072d9d8-ea48-4b1c-b488-f9adbe6e5e91",
   "metadata": {},
   "outputs": [],
   "source": [
    "fig = px.pie(sales_by_category,\n",
    "             values='Sales',\n",
    "             names='Category',\n",
    "             hole=0.5,\n",
    "             color_discrete_sequence=px.colors.qualitative.Pastel)\n",
    "\n",
    "fig.update_traces(textposition='inside',textinfo='percent+label')\n",
    "fig.update_layout(title_text='Sales Analysis by Category', title_font=dict(size=24))\n",
    "\n",
    "fig.show()"
   ]
  },
  {
   "cell_type": "markdown",
   "id": "81060950-cc3f-456e-ba2e-c8449938e0a8",
   "metadata": {},
   "source": [
    "# Sales analysis by Sub Category"
   ]
  },
  {
   "cell_type": "code",
   "execution_count": null,
   "id": "faa32714-9dae-46e1-ae54-aa3fc1227757",
   "metadata": {},
   "outputs": [],
   "source": [
    "data.head()"
   ]
  },
  {
   "cell_type": "code",
   "execution_count": null,
   "id": "a9c01dd3-4712-4a02-b9b6-c01c1e0f970d",
   "metadata": {},
   "outputs": [],
   "source": [
    "sales_by_subcategory = data.groupby('Sub-Category')['Sales'].sum().reset_index()"
   ]
  },
  {
   "cell_type": "code",
   "execution_count": null,
   "id": "bf87f7a0-6ae0-498f-8ee5-ec4f3687f91d",
   "metadata": {},
   "outputs": [],
   "source": [
    "sales_by_subcategory"
   ]
  },
  {
   "cell_type": "code",
   "execution_count": null,
   "id": "1cbcf337-923f-4632-a085-4f00bb0c8c86",
   "metadata": {},
   "outputs": [],
   "source": [
    "fig = px.bar(sales_by_subcategory, x='Sub-Category', y='Sales', title=\"Sales analysis by sub category\")\n",
    "\n",
    "fig.show()"
   ]
  },
  {
   "cell_type": "markdown",
   "id": "8135787f-9e25-4b24-a4e3-ddb9acd1b997",
   "metadata": {},
   "source": [
    "# Monthly profit analysis"
   ]
  },
  {
   "cell_type": "code",
   "execution_count": null,
   "id": "9290aa98-8b96-4d04-9a3e-909756013919",
   "metadata": {},
   "outputs": [],
   "source": [
    "data.head()"
   ]
  },
  {
   "cell_type": "code",
   "execution_count": null,
   "id": "0c762677-5b25-41c4-b09f-b517cb312665",
   "metadata": {},
   "outputs": [],
   "source": [
    "profit_by_month = data.groupby('Order Month')['Profit'].sum().reset_index()"
   ]
  },
  {
   "cell_type": "code",
   "execution_count": null,
   "id": "1e489686-8ef9-4a5a-85ad-c490f0d0ffee",
   "metadata": {},
   "outputs": [],
   "source": [
    "profit_by_month"
   ]
  },
  {
   "cell_type": "code",
   "execution_count": null,
   "id": "c91a2bde-0caa-4562-9a55-490211018ac9",
   "metadata": {},
   "outputs": [],
   "source": [
    "fig = px.line(profit_by_month, x='Order Month', y='Profit', title=\"Monthly profit analysis\")\n",
    "\n",
    "fig.show()"
   ]
  },
  {
   "cell_type": "markdown",
   "id": "72859b68-ece1-4630-bdd5-bc4f564aa5a8",
   "metadata": {},
   "source": [
    "# Profit by category"
   ]
  },
  {
   "cell_type": "code",
   "execution_count": null,
   "id": "7153f532-9224-4d86-b609-02991eddf871",
   "metadata": {},
   "outputs": [],
   "source": [
    "profit_by_category = data.groupby('Category')['Profit'].sum().reset_index()"
   ]
  },
  {
   "cell_type": "code",
   "execution_count": null,
   "id": "24c65303-2638-41f7-a410-597fe74e5913",
   "metadata": {},
   "outputs": [],
   "source": [
    "profit_by_category"
   ]
  },
  {
   "cell_type": "code",
   "execution_count": null,
   "id": "011fdda0-b2d7-40ef-90d2-b7500252b831",
   "metadata": {},
   "outputs": [],
   "source": [
    "fig = px.pie(profit_by_category,\n",
    "             values='Profit',\n",
    "             names='Category',\n",
    "             hole=0.5,\n",
    "             color_discrete_sequence=px.colors.qualitative.Pastel)\n",
    "\n",
    "fig.update_traces(textposition='inside',textinfo='percent+label')\n",
    "fig.update_layout(title_text='Profit Analysis by Category', title_font=dict(size=24))\n",
    "\n",
    "fig.show()"
   ]
  },
  {
   "cell_type": "markdown",
   "id": "07959b66-80f0-4cf2-ace0-ab2ae73e778b",
   "metadata": {},
   "source": [
    "# Profit by sub category"
   ]
  },
  {
   "cell_type": "code",
   "execution_count": null,
   "id": "eb055333-7f4a-46a1-9998-bc7e5413c72d",
   "metadata": {},
   "outputs": [],
   "source": [
    "profit_by_subcategory = data.groupby('Sub-Category')['Profit'].sum().reset_index()\n",
    "fig = px.bar(profit_by_subcategory, x='Sub-Category', y='Profit', title=\"Profit analysis by Sub-Category\")\n",
    "\n",
    "fig.show()"
   ]
  },
  {
   "cell_type": "markdown",
   "id": "a2984467-dbd1-43e8-acff-24afd0d5b4c3",
   "metadata": {},
   "source": [
    "# sales and profit - customer segment"
   ]
  },
  {
   "cell_type": "code",
   "execution_count": null,
   "id": "3d1c4570-34b1-47db-83d0-eef6aebd320b",
   "metadata": {},
   "outputs": [],
   "source": [
    "data.head()"
   ]
  },
  {
   "cell_type": "code",
   "execution_count": null,
   "id": "2f860807-a05a-49b3-9970-a591c7763f8c",
   "metadata": {},
   "outputs": [],
   "source": [
    "sales_profit_by_segment = data.groupby('Segment').agg({'Sales': 'sum', 'Profit': 'sum'}).reset_index()\n",
    "\n",
    "color_palette = colors.qualitative.Pastel\n",
    "\n",
    "fig = go.Figure()\n",
    "fig.add_trace(go.Bar(x=sales_profit_by_segment['Segment'], \n",
    "                     y=sales_profit_by_segment['Sales'], \n",
    "                     name='Sales',\n",
    "                     marker_color=color_palette[0]))\n",
    "\n",
    "fig.add_trace(go.Bar(x=sales_profit_by_segment['Segment'], \n",
    "                     y=sales_profit_by_segment['Profit'], \n",
    "                     name='Profit',\n",
    "                     marker_color=color_palette[1]))\n",
    "\n",
    "fig.update_layout(title='Sales and Profit Analysis by Customer Segment',\n",
    "                  xaxis_title='Customer Segment', yaxis_title='Amount')\n",
    "\n",
    "fig.show()"
   ]
  },
  {
   "cell_type": "markdown",
   "id": "ee393102-d227-42bd-99eb-bf3882ccebd3",
   "metadata": {},
   "source": [
    "# analyse sales-to-profit ratio"
   ]
  },
  {
   "cell_type": "code",
   "execution_count": null,
   "id": "4e5bc631-c07a-49ed-80c2-bc849f185051",
   "metadata": {},
   "outputs": [],
   "source": [
    "sales_profit_by_segment = data.groupby('Segment').agg({'Sales': 'sum', 'Profit': 'sum'}).reset_index()\n",
    "sales_profit_by_segment['Sales_to_Profit_Ratio'] = sales_profit_by_segment['Sales'] / sales_profit_by_segment['Profit']\n",
    "print(sales_profit_by_segment[['Segment', 'Sales_to_Profit_Ratio']])"
   ]
  },
  {
   "cell_type": "code",
   "execution_count": null,
   "id": "b462657e-ae90-4212-a1a7-7ab467b962c3",
   "metadata": {},
   "outputs": [],
   "source": []
  }
 ],
 "metadata": {
  "kernelspec": {
   "display_name": "Python 3 (ipykernel)",
   "language": "python",
   "name": "python3"
  },
  "language_info": {
   "codemirror_mode": {
    "name": "ipython",
    "version": 3
   },
   "file_extension": ".py",
   "mimetype": "text/x-python",
   "name": "python",
   "nbconvert_exporter": "python",
   "pygments_lexer": "ipython3",
   "version": "3.13.0"
  }
 },
 "nbformat": 4,
 "nbformat_minor": 5
}
